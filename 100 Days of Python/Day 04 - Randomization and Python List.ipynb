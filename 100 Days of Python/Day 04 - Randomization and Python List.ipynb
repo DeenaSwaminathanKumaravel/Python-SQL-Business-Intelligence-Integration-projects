{
 "cells": [
  {
   "cell_type": "markdown",
   "id": "392656c9",
   "metadata": {},
   "source": [
    "## Day 04 - Randomization and Python List"
   ]
  },
  {
   "cell_type": "code",
   "execution_count": 9,
   "id": "6e23cddc",
   "metadata": {},
   "outputs": [],
   "source": [
    "import random as rd"
   ]
  },
  {
   "cell_type": "code",
   "execution_count": 35,
   "id": "215a5d86",
   "metadata": {
    "scrolled": true
   },
   "outputs": [
    {
     "name": "stdout",
     "output_type": "stream",
     "text": [
      "1675\n",
      "0.9019512784847176\n"
     ]
    }
   ],
   "source": [
    "var_name = rd.randint(1001, 2000) # parameters are inclusive\n",
    "print(var_name)\n",
    "\n",
    "rand_float = rd.random() #includes output within 0 and 1 (exclusive)\n",
    "print(rand_float)"
   ]
  },
  {
   "cell_type": "code",
   "execution_count": 48,
   "id": "3586f548",
   "metadata": {},
   "outputs": [
    {
     "name": "stdout",
     "output_type": "stream",
     "text": [
      "4.394122861159319\n"
     ]
    }
   ],
   "source": [
    "# To extend the range of random_float from 0, 1, multiply with some num\n",
    "\n",
    "rand_float = rd.random() * 5\n",
    "print(rand_float)"
   ]
  },
  {
   "cell_type": "markdown",
   "id": "edd19ccd",
   "metadata": {},
   "source": [
    "**Examples**"
   ]
  },
  {
   "cell_type": "markdown",
   "id": "5f4bf438",
   "metadata": {},
   "source": [
    "1. You are going to write a virtual coin toss program. It will randomly tell the user \"Heads\" or \"Tails\".\n",
    "\n",
    "    Important, the first letter should be capitalised and spelt exactly like in the example e.g. \"Heads\", not \"heads\".\n",
    "\n",
    "    There are many ways of doing this. But to practice what we learnt in the last lesson, you should generate a random number, either 0 or 1. Then use that number to print out \"Heads\" or \"Tails\".\n",
    "\n",
    "    e.g. 1 means Heads 0 means Tails"
   ]
  },
  {
   "cell_type": "code",
   "execution_count": 83,
   "id": "dd00c21d",
   "metadata": {},
   "outputs": [],
   "source": [
    "def coin_toss():\n",
    "    cp_sel = rd.randint(0,1)\n",
    "\n",
    "    match cp_sel:\n",
    "        case 1:\n",
    "            return(\"Heads\")\n",
    "        case 0:\n",
    "            return(\"Tails\")"
   ]
  },
  {
   "cell_type": "code",
   "execution_count": 84,
   "id": "9c6fd7d5",
   "metadata": {},
   "outputs": [
    {
     "name": "stdout",
     "output_type": "stream",
     "text": [
      "Tails\n"
     ]
    }
   ],
   "source": [
    "print(coin_toss())"
   ]
  },
  {
   "cell_type": "markdown",
   "id": "d6d77511",
   "metadata": {},
   "source": [
    "## Data Structures - Lists"
   ]
  },
  {
   "cell_type": "code",
   "execution_count": 102,
   "id": "ab9e7003",
   "metadata": {},
   "outputs": [
    {
     "name": "stdout",
     "output_type": "stream",
     "text": [
      "<class 'int'>\n",
      "<class 'int'>\n",
      "<class 'str'>\n"
     ]
    }
   ],
   "source": [
    "list = [1,2,\"Nebula\"]\n",
    "for i in list:\n",
    "    print(type(i) )"
   ]
  },
  {
   "cell_type": "code",
   "execution_count": 103,
   "id": "6b883bda",
   "metadata": {},
   "outputs": [
    {
     "name": "stdout",
     "output_type": "stream",
     "text": [
      "[1, 2, 'Nebula', 'Test']\n"
     ]
    }
   ],
   "source": [
    "list.append(\"Test\") #adds one item to end of the list\n",
    "print(list)"
   ]
  },
  {
   "cell_type": "code",
   "execution_count": 105,
   "id": "fdbf634c",
   "metadata": {},
   "outputs": [],
   "source": [
    "list.extend([\"test1\", \"test2\"])"
   ]
  },
  {
   "cell_type": "code",
   "execution_count": 106,
   "id": "e252c3e0",
   "metadata": {},
   "outputs": [
    {
     "name": "stdout",
     "output_type": "stream",
     "text": [
      "[1, 2, 'Nebula', 'Test', 'test1', 'test2']\n"
     ]
    }
   ],
   "source": [
    "print(list)"
   ]
  },
  {
   "cell_type": "markdown",
   "id": "930e30ea",
   "metadata": {},
   "source": [
    "2. You are going to write a program that will select a random name from a list of names. The person selected will have to pay for everybody's food bill.\n",
    "\n",
    "    Important: You are not allowed to use the choice() function.\n",
    "\n",
    "    Line 1 splits the string names_string into individual names and puts them inside a List called names. For this to work, you must enter all the names as names followed by comma then space. e.g. name, name, name\n",
    "\n",
    "    NOTE: Don't worry about getting hold of the input(), we've done the work behind the scenes to import everything.\n",
    "\n",
    "    HINT: Assume that names looks like this: input: x, y, z, names = [\"x\", \"y\", \"z\"]"
   ]
  },
  {
   "cell_type": "code",
   "execution_count": 121,
   "id": "6790a576",
   "metadata": {},
   "outputs": [
    {
     "name": "stdout",
     "output_type": "stream",
     "text": [
      "Enter the list of names [Seperated by comma]\n",
      "Sun, Mercury, Venus, Earth, Mars, Jupiter, Saturn, Uranus, Neptune, Pluto\n",
      "Mercury is going to buy meal today\n"
     ]
    }
   ],
   "source": [
    "import random\n",
    "names = input(\"Enter the list of names [Seperated by comma]\\n\")\n",
    "\n",
    "names = names.split(\", \")\n",
    "rand_name = random.randint(0, len(names))\n",
    "\n",
    "print(f\"{names[rand_name]} is going to buy meal today\")"
   ]
  },
  {
   "cell_type": "markdown",
   "id": "7972710b",
   "metadata": {},
   "source": [
    "**(or)**"
   ]
  },
  {
   "cell_type": "code",
   "execution_count": 122,
   "id": "3890820c",
   "metadata": {},
   "outputs": [
    {
     "name": "stdout",
     "output_type": "stream",
     "text": [
      "Enter the list of names [Seperated by comma]\n",
      "Sun, Mercury, Venus, Earth, Mars, Jupiter, Saturn, Uranus, Neptune, Pluto\n",
      "Pluto is going to buy meal today\n"
     ]
    }
   ],
   "source": [
    "import random\n",
    "names = input(\"Enter the list of names [Seperated by comma]\\n\")\n",
    "\n",
    "names = names.split(\", \")\n",
    "rand_name = random.choice(names) # Choice function selects random name from the list\n",
    "\n",
    "print(f\"{rand_name} is going to buy meal today\")"
   ]
  },
  {
   "cell_type": "markdown",
   "id": "74d0c3fb",
   "metadata": {},
   "source": [
    "**Nested Lists**"
   ]
  },
  {
   "cell_type": "code",
   "execution_count": 123,
   "id": "2fb71cdc",
   "metadata": {},
   "outputs": [],
   "source": [
    "fruits = [\"Strawberries\", \"Nectraines\", \"Apples\", \"Grapes\", \"Peaches\", \"Cherries\", \"Tomato\"]\n",
    "vegetables = [\"Spinach\", \"Kale\", \"Celery\", \"Potato\"]\n",
    "\n",
    "mylist = [fruits, vegetables]"
   ]
  },
  {
   "cell_type": "code",
   "execution_count": 125,
   "id": "3167ac55",
   "metadata": {},
   "outputs": [
    {
     "name": "stdout",
     "output_type": "stream",
     "text": [
      "[['Strawberries', 'Nectraines', 'Apples', 'Grapes', 'Peaches', 'Cherries', 'Tomato'], ['Spinach', 'Kale', 'Celery', 'Potato']]\n"
     ]
    }
   ],
   "source": [
    "print(mylist)"
   ]
  },
  {
   "cell_type": "markdown",
   "id": "6b46c552",
   "metadata": {},
   "source": [
    "## Project Exercises"
   ]
  },
  {
   "cell_type": "markdown",
   "id": "a5467ebc",
   "metadata": {},
   "source": [
    "### Treasure Map\n",
    "\n",
    "3. You are going to write a program that will mark a spot on a map with an X.\n",
    "\n",
    "    In the starting code, you will find a variable called map.\n",
    "\n",
    "    This map contains a nested list. When map is printed this is what it looks like, notice the nesting:\n",
    "\n",
    "    [['⬜️', '⬜️', '⬜️'],['⬜️', '⬜️', '⬜️'],['⬜️', '⬜️', '⬜️']]\n",
    "\n",
    "    This is a bit hard to work with. So on lines 6 and 23, we've used this line of code print(f\"{row1}\\n{row2}\\n{row3}\") to format the 3 lists to be printed as a 3 by 3 grid, each on a new line.\n",
    "\n",
    "    ['⬜️', '⬜️', '⬜️']\n",
    "\n",
    "    ['⬜️', '⬜️', '⬜️']\n",
    "\n",
    "    ['⬜️', '⬜️', '⬜️']"
   ]
  },
  {
   "cell_type": "code",
   "execution_count": 31,
   "id": "7d802d93",
   "metadata": {
    "scrolled": true
   },
   "outputs": [
    {
     "name": "stdout",
     "output_type": "stream",
     "text": [
      "Hiding your treasure! X marks the spot.Use ABC for Columns and 123 for rows to mark Coordinate\n",
      "['⬜️', '⬜️', '⬜️']\n",
      "['⬜️', '⬜️', '⬜️']\n",
      "['⬜️', '⬜️', '⬜️']\n",
      "Choose your hiding spot for treasure!\n",
      "B3\n",
      "['⬜️', '⬜️', '⬜️']\n",
      "['⬜️', '⬜️', '⬜️']\n",
      "['⬜️', 'X', '⬜️']\n"
     ]
    }
   ],
   "source": [
    "one = ['⬜️', '⬜️', '⬜️']\n",
    "two = ['⬜️', '⬜️', '⬜️']\n",
    "three = ['⬜️', '⬜️', '⬜️']\n",
    "\n",
    "map = [one, two, three]\n",
    "\n",
    "print(\"Hiding your treasure! X marks the spot.Use ABC for Columns and 123 for rows to mark Coordinate\")\n",
    "print(f\"{one}\\n{two}\\n{three}\")\n",
    "\n",
    "point = input(\"Choose your hiding spot for treasure!\\n\")\n",
    "column = point[0]\n",
    "row = int(point[1]) -1\n",
    "\n",
    "match column.lower():\n",
    "    case \"a\":\n",
    "        column = 1\n",
    "    case \"b\":\n",
    "        column = 2\n",
    "    case \"c\":\n",
    "        column = 3\n",
    "\n",
    "map[row][column-1] = \"X\"\n",
    "print(f\"{one}\\n{two}\\n{three}\")"
   ]
  },
  {
   "cell_type": "markdown",
   "id": "75560e4c",
   "metadata": {},
   "source": [
    "### Rock, Paper, Scissor"
   ]
  },
  {
   "cell_type": "code",
   "execution_count": 21,
   "id": "df7f7fea",
   "metadata": {},
   "outputs": [
    {
     "name": "stdout",
     "output_type": "stream",
     "text": [
      "Rock\n"
     ]
    }
   ],
   "source": [
    "import random\n",
    "\n",
    "cp_sel = random.randint(0, 2)\n",
    "\n",
    "match cp_sel:\n",
    "    case 0:\n",
    "        cp_sel1 = \"Rock\"\n",
    "    case 1:\n",
    "        cp_sel1 = \"Paper\"\n",
    "    case 2:\n",
    "        cp_sel1 = \"Scissor\"\n",
    "        \n",
    "print(cp_sel1)"
   ]
  }
 ],
 "metadata": {
  "kernelspec": {
   "display_name": "Python 3 (ipykernel)",
   "language": "python",
   "name": "python3"
  },
  "language_info": {
   "codemirror_mode": {
    "name": "ipython",
    "version": 3
   },
   "file_extension": ".py",
   "mimetype": "text/x-python",
   "name": "python",
   "nbconvert_exporter": "python",
   "pygments_lexer": "ipython3",
   "version": "3.10.9"
  }
 },
 "nbformat": 4,
 "nbformat_minor": 5
}
