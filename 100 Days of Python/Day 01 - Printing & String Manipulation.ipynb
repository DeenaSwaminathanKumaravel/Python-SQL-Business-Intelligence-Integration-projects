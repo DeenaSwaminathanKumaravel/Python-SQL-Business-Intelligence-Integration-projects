{
 "cells": [
  {
   "cell_type": "markdown",
   "id": "8599030a",
   "metadata": {},
   "source": [
    "# Day 01 - Printing & String Manipulation"
   ]
  },
  {
   "cell_type": "markdown",
   "id": "dfad6ab4",
   "metadata": {},
   "source": [
    "### Printing"
   ]
  },
  {
   "cell_type": "code",
   "execution_count": 1,
   "id": "3c53e2b5",
   "metadata": {},
   "outputs": [
    {
     "name": "stdout",
     "output_type": "stream",
     "text": [
      "Hello World!\n"
     ]
    }
   ],
   "source": [
    "print(\"Hello World!\")"
   ]
  },
  {
   "cell_type": "markdown",
   "id": "8c833ff8",
   "metadata": {},
   "source": [
    "### Printing Multiple lines using \"\\n\"\n"
   ]
  },
  {
   "cell_type": "code",
   "execution_count": 2,
   "id": "1f77a870",
   "metadata": {},
   "outputs": [
    {
     "name": "stdout",
     "output_type": "stream",
     "text": [
      "Hello world!\n",
      "Hello World\n"
     ]
    }
   ],
   "source": [
    "print(\"Hello world!\\nHello World\")"
   ]
  },
  {
   "cell_type": "markdown",
   "id": "9f07032c",
   "metadata": {},
   "source": [
    "### String Concatenation\n",
    "\n",
    "Comments can be added to code by writing text followed after pound \"#\"\\\n",
    "Ctrl + /  can be used to comment lines of code in windows"
   ]
  },
  {
   "cell_type": "code",
   "execution_count": 3,
   "id": "70123ee1",
   "metadata": {},
   "outputs": [],
   "source": [
    "# This line is an example for comment"
   ]
  },
  {
   "cell_type": "code",
   "execution_count": 4,
   "id": "186378f1",
   "metadata": {},
   "outputs": [
    {
     "name": "stdout",
     "output_type": "stream",
     "text": [
      "Hello World!\n"
     ]
    }
   ],
   "source": [
    "print(\"Hello\" + \" World!\")"
   ]
  },
  {
   "cell_type": "code",
   "execution_count": 5,
   "id": "fd006998",
   "metadata": {},
   "outputs": [
    {
     "name": "stdout",
     "output_type": "stream",
     "text": [
      "Day 1 - String Manipulation\n",
      "String Concatenation is done using \"+\" sign.\n",
      "egs - Hello World!\n",
      "New lines can be added to print statment using \n",
      "\n",
      "Hello world!\n",
      "This will be printed in next line\n"
     ]
    }
   ],
   "source": [
    "print(\"Day 1 - String Manipulation\")\n",
    "print('String Concatenation is done using \"+\" sign.')\n",
    "print(\"egs - Hello \" + \"World!\")\n",
    "print(\"New lines can be added to print statment using \\n\")\n",
    "print(\"Hello world!\\nThis will be printed in next line\")"
   ]
  },
  {
   "cell_type": "markdown",
   "id": "57420699",
   "metadata": {},
   "source": [
    "## Exercises\n",
    "\n",
    "\n",
    "\n",
    "### 1. Input Function\n",
    "\n",
    "**Write a program that calculates and outputs the number of characters in any name.** \\\n",
    "Inputs for the string value can be passed into program using input and assigned to variable."
   ]
  },
  {
   "cell_type": "code",
   "execution_count": 6,
   "id": "2afb3e4e",
   "metadata": {},
   "outputs": [
    {
     "name": "stdout",
     "output_type": "stream",
     "text": [
      "what is your name? Deena\n",
      "Hello Deena!\n"
     ]
    }
   ],
   "source": [
    "str = input(\"what is your name? \")\n",
    "print(\"Hello \" + str + \"!\")"
   ]
  },
  {
   "cell_type": "markdown",
   "id": "6966807a",
   "metadata": {},
   "source": [
    "Nesting Input statement into Print function"
   ]
  },
  {
   "cell_type": "code",
   "execution_count": 7,
   "id": "88bda0b5",
   "metadata": {},
   "outputs": [
    {
     "name": "stdout",
     "output_type": "stream",
     "text": [
      "What is your name? Galaxy\n",
      "Hello Galaxy!\n"
     ]
    }
   ],
   "source": [
    "print(\"Hello \" + input(\"What is your name? \") + \"!\")"
   ]
  },
  {
   "cell_type": "code",
   "execution_count": 8,
   "id": "6fbdae6c",
   "metadata": {},
   "outputs": [
    {
     "name": "stdout",
     "output_type": "stream",
     "text": [
      "What is your name? Galaxy Destroyer\n",
      "16\n"
     ]
    }
   ],
   "source": [
    "print(len(input(\"What is your name? \")))"
   ]
  },
  {
   "cell_type": "markdown",
   "id": "60d09f0a",
   "metadata": {},
   "source": [
    "### 2. Swapping the Variables\n",
    "\n",
    "This program takes two inputs. The first input is stored in a variable called a. The second input is stored in a variable called b.\n",
    "\n",
    "Write a program that switches the values stored in the variables a and b.\n",
    "\n",
    "Warning . You don't need to print anything. The print statement is already in the template code. However, your program should work for different inputs. e.g. any value of a and b."
   ]
  },
  {
   "cell_type": "code",
   "execution_count": 9,
   "id": "0eaae4d4",
   "metadata": {
    "scrolled": true
   },
   "outputs": [
    {
     "name": "stdout",
     "output_type": "stream",
     "text": [
      "Enter the value for a:Basic\n",
      "Enter the value for b:Assembly\n",
      "a:Assembly\n",
      "b:Basic\n"
     ]
    }
   ],
   "source": [
    "#getting the input from the user\n",
    "a = input(\"Enter the value for a:\")\n",
    "b = input(\"Enter the value for b:\")\n",
    "\n",
    "#Swapping the variable\n",
    "a,b = b,a\n",
    "\n",
    "print(\"a:\" + a)\n",
    "print(\"b:\" + b)"
   ]
  },
  {
   "cell_type": "markdown",
   "id": "aea4d58f",
   "metadata": {},
   "source": [
    "### 3. Band name Generator"
   ]
  },
  {
   "cell_type": "markdown",
   "id": "905ade54",
   "metadata": {},
   "source": [
    "This program takes two inputs. The first input is city they live in stored in a variable called city. The second input is their pet name stored in a variable called pet_name.\n",
    "\n",
    "Write a program that generates a band name which concats the name of the city and their pet."
   ]
  },
  {
   "cell_type": "code",
   "execution_count": 20,
   "id": "51f1e1cf",
   "metadata": {},
   "outputs": [
    {
     "name": "stdout",
     "output_type": "stream",
     "text": [
      "Welcome to the Band Name Generator!\n",
      "What is the city that you grew u in? \n",
      " cbe\n",
      "What is the name of your pet? \n",
      "gal\n",
      "Your band name is cbe gal!\n"
     ]
    }
   ],
   "source": [
    "print(\"Welcome to the Band Name Generator!\")\n",
    "\n",
    "city = input(\"What is the city that you grew u in? \\n \")\n",
    "pet_name = input(\"What is the name of your pet? \\n\")\n",
    "\n",
    "print(\"Your band name is \" + city + \" \" + pet_name + \"!\")"
   ]
  }
 ],
 "metadata": {
  "kernelspec": {
   "display_name": "Python 3 (ipykernel)",
   "language": "python",
   "name": "python3"
  },
  "language_info": {
   "codemirror_mode": {
    "name": "ipython",
    "version": 3
   },
   "file_extension": ".py",
   "mimetype": "text/x-python",
   "name": "python",
   "nbconvert_exporter": "python",
   "pygments_lexer": "ipython3",
   "version": "3.10.9"
  }
 },
 "nbformat": 4,
 "nbformat_minor": 5
}
