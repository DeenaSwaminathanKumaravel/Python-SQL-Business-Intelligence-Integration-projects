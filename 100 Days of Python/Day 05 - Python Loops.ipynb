{
 "cells": [
  {
   "cell_type": "markdown",
   "id": "b0613cc9",
   "metadata": {},
   "source": [
    "## Day 05 - Python Loops"
   ]
  },
  {
   "cell_type": "markdown",
   "id": "d18346b8",
   "metadata": {},
   "source": [
    "### For Loop"
   ]
  },
  {
   "cell_type": "code",
   "execution_count": 1,
   "id": "9f6bfbd8",
   "metadata": {
    "scrolled": true
   },
   "outputs": [
    {
     "name": "stdout",
     "output_type": "stream",
     "text": [
      "Apple\n",
      "Peach\n",
      "Strawberries\n"
     ]
    }
   ],
   "source": [
    "fruits = [\"Apple\", \"Peach\", \"Strawberries\"]\n",
    "\n",
    "for i in fruits:\n",
    "    print(i)"
   ]
  },
  {
   "cell_type": "markdown",
   "id": "18a0c29a",
   "metadata": {},
   "source": [
    "**Exercises**\n",
    "\n",
    "1. You are going to write a program that calculates the average student height from a List of heights.\n",
    "\n",
    "e.g. student_heights = [180, 124, 165, 173, 189, 169, 146]\n",
    "\n",
    "The average height can be calculated by adding all the heights together and dividing by the total number of heights.\n",
    "\n",
    "e.g.\n",
    "\n",
    "180 + 124 + 165 + 173 + 189 + 169 + 146 = 1146\n",
    "\n",
    "There are a total of 7 heights in student_heights\n",
    "\n",
    "1146 ÷ 7 = 163.71428571428572\n",
    "\n",
    "Average height rounded to the nearest whole number = 164\n",
    "\n",
    "Important You should not use the sum() or len() functions in your answer. You should try to replicate their functionality using what you have learnt about for loops.You are going to write a program that calculates the average student height from a List of heights.\n",
    "\n",
    "e.g. student_heights = [180, 124, 165, 173, 189, 169, 146]\n",
    "\n",
    "The average height can be calculated by adding all the heights together and dividing by the total number of heights.\n",
    "\n",
    "e.g.\n",
    "\n",
    "180 + 124 + 165 + 173 + 189 + 169 + 146 = 1146\n",
    "\n",
    "There are a total of 7 heights in student_heights\n",
    "\n",
    "1146 ÷ 7 = 163.71428571428572\n",
    "\n",
    "Average height rounded to the nearest whole number = 164\n",
    "\n",
    "**Important You should not use the sum() or len() functions in your answer. You should try to replicate their functionality using what you have learnt about for loops.**"
   ]
  },
  {
   "cell_type": "code",
   "execution_count": 5,
   "id": "83ac134f",
   "metadata": {},
   "outputs": [
    {
     "name": "stdout",
     "output_type": "stream",
     "text": [
      "The Total Height = 1146\n",
      "Number of Students = 7\n",
      "Average height is 164\n"
     ]
    }
   ],
   "source": [
    "student_heights = [180, 124, 165, 173, 189, 169, 146]\n",
    "\n",
    "total = 0\n",
    "no_of_items= 0\n",
    "for i in student_heights:\n",
    "    total += i\n",
    "    no_of_items +=1\n",
    "    \n",
    "print(f\"The Total Height = {total}\\nNumber of Students = {no_of_items}\\nAverage height is {round(total/no_of_items)}\")"
   ]
  },
  {
   "cell_type": "markdown",
   "id": "46f8b149",
   "metadata": {},
   "source": [
    "**2. You are going to write a program that calculates the highest score from a List of scores.**\n",
    "\n",
    "   e.g. student_scores = [78, 65, 89, 86, 55, 91, 64, 89]\n",
    "\n",
    "   Important you are not allowed to use the max or min functions. The output words must match the example. i.e\n",
    "\n",
    "   The highest score in the class is: x"
   ]
  },
  {
   "cell_type": "code",
   "execution_count": 9,
   "id": "cefe30ee",
   "metadata": {},
   "outputs": [
    {
     "name": "stdout",
     "output_type": "stream",
     "text": [
      "The highest value is 100\n"
     ]
    }
   ],
   "source": [
    "student_scores = [78, 65, 89, 86, 100, 91, 64, 89]\n",
    "\n",
    "index = student_scores[0]\n",
    "\n",
    "for i in student_scores:\n",
    "    if i > index:\n",
    "        index = i\n",
    "\n",
    "print(f\"The highest value is {index}\")"
   ]
  },
  {
   "cell_type": "markdown",
   "id": "2f4383b8",
   "metadata": {},
   "source": [
    "### Adding Numbers from 1 to 100"
   ]
  },
  {
   "cell_type": "code",
   "execution_count": 16,
   "id": "420cd78c",
   "metadata": {},
   "outputs": [
    {
     "name": "stdout",
     "output_type": "stream",
     "text": [
      "5050\n"
     ]
    }
   ],
   "source": [
    "final = 0\n",
    "for i in range(1, 101):\n",
    "    final += i\n",
    "        \n",
    "print(final)"
   ]
  },
  {
   "cell_type": "markdown",
   "id": "bb7dbc97",
   "metadata": {},
   "source": [
    "**3. You are going to write a program that calculates the sum of all the even numbers from 1 to X. If X is 100 then the first even number would be 2 and the last one is 100:**\n",
    "\n",
    "i.e. 2 + 4 + 6 + 8 +10 ... + 98 + 100\n",
    "\n",
    "Important, there should only be 1 print statement in your console output. It should just print the final total and not every step of the calculation.\n",
    "\n",
    "Also, we will constrain the inputs to only take numbers from 0 to a max of 1000"
   ]
  },
  {
   "cell_type": "code",
   "execution_count": 20,
   "id": "948ad02f",
   "metadata": {},
   "outputs": [
    {
     "name": "stdout",
     "output_type": "stream",
     "text": [
      "Enter the value!\n",
      "7\n",
      "12\n"
     ]
    }
   ],
   "source": [
    "user_input = int(input(\"Enter the value!\\n\"))\n",
    "\n",
    "even_sum = 0\n",
    "for i in range(2, user_input+1, 2):\n",
    "    even_sum += i\n",
    "    \n",
    "print(even_sum)"
   ]
  },
  {
   "cell_type": "markdown",
   "id": "3e07b952",
   "metadata": {},
   "source": [
    "**4. You are going to write a program that automatically prints the solution to the FizzBuzz game. These are the rules of the FizzBuzz game:**\n",
    "\n",
    "Your program should print each number from 1 to 100 in turn and include number 100.\n",
    "\n",
    "When the number is divisible by 3 then instead of printing the number it should print \"Fizz\".\n",
    "\n",
    "When the number is divisible by 5, then instead of printing the number it should print \"Buzz\".`\n",
    "\n",
    "And if the number is divisible by both 3 and 5 e.g. 15 then instead of the number it should print \"FizzBuzz\"\n",
    "\n",
    "e.g. it might start off like this:\n",
    "\n",
    "1\n",
    "2\n",
    "Fizz\n",
    "4\n",
    "Buzz\n",
    "Fizz\n",
    "7\n",
    "8\n",
    "Fizz\n",
    "Buzz\n",
    "11\n",
    "Fizz\n",
    "13\n",
    "14\n",
    "FizzBuzz\n",
    "...etc"
   ]
  },
  {
   "cell_type": "code",
   "execution_count": 21,
   "id": "a878335a",
   "metadata": {
    "collapsed": true
   },
   "outputs": [
    {
     "name": "stdout",
     "output_type": "stream",
     "text": [
      "1\n",
      "2\n",
      "Fizz\n",
      "4\n",
      "Buzz\n",
      "Fizz\n",
      "7\n",
      "8\n",
      "Fizz\n",
      "Buzz\n",
      "11\n",
      "Fizz\n",
      "13\n",
      "14\n",
      "FizzBuzz\n",
      "16\n",
      "17\n",
      "Fizz\n",
      "19\n",
      "Buzz\n",
      "Fizz\n",
      "22\n",
      "23\n",
      "Fizz\n",
      "Buzz\n",
      "26\n",
      "Fizz\n",
      "28\n",
      "29\n",
      "FizzBuzz\n",
      "31\n",
      "32\n",
      "Fizz\n",
      "34\n",
      "Buzz\n",
      "Fizz\n",
      "37\n",
      "38\n",
      "Fizz\n",
      "Buzz\n",
      "41\n",
      "Fizz\n",
      "43\n",
      "44\n",
      "FizzBuzz\n",
      "46\n",
      "47\n",
      "Fizz\n",
      "49\n",
      "Buzz\n",
      "Fizz\n",
      "52\n",
      "53\n",
      "Fizz\n",
      "Buzz\n",
      "56\n",
      "Fizz\n",
      "58\n",
      "59\n",
      "FizzBuzz\n",
      "61\n",
      "62\n",
      "Fizz\n",
      "64\n",
      "Buzz\n",
      "Fizz\n",
      "67\n",
      "68\n",
      "Fizz\n",
      "Buzz\n",
      "71\n",
      "Fizz\n",
      "73\n",
      "74\n",
      "FizzBuzz\n",
      "76\n",
      "77\n",
      "Fizz\n",
      "79\n",
      "Buzz\n",
      "Fizz\n",
      "82\n",
      "83\n",
      "Fizz\n",
      "Buzz\n",
      "86\n",
      "Fizz\n",
      "88\n",
      "89\n",
      "FizzBuzz\n",
      "91\n",
      "92\n",
      "Fizz\n",
      "94\n",
      "Buzz\n",
      "Fizz\n",
      "97\n",
      "98\n",
      "Fizz\n",
      "Buzz\n"
     ]
    }
   ],
   "source": [
    "for i in range(1, 101):\n",
    "    if i % 3 == 0 and i % 5 ==0:\n",
    "        print(\"FizzBuzz\")\n",
    "    elif i % 5 == 0:\n",
    "        print(\"Buzz\")\n",
    "    elif i % 3 == 0:\n",
    "        print(\"Fizz\")\n",
    "    else:\n",
    "        print(i)"
   ]
  },
  {
   "cell_type": "markdown",
   "id": "ba834b0c",
   "metadata": {},
   "source": [
    "## PyPassword Generator"
   ]
  },
  {
   "cell_type": "code",
   "execution_count": 52,
   "id": "faf5f9c8",
   "metadata": {},
   "outputs": [
    {
     "name": "stdout",
     "output_type": "stream",
     "text": [
      "Welcome to the PyPassword Generator!\n",
      "\n",
      "How many letters you want in the password?\n",
      "4\n",
      "How many symbols you want in the password?\n",
      "4\n",
      "How many numbers you want in the password?\n",
      "4\n",
      "['B', 'E', 'u', 'F', '2', '2', '6', '5', ')', '%', '*', '#']\n",
      "Your Password is 2%6E)2F#Bu5*\n"
     ]
    }
   ],
   "source": [
    "import random\n",
    "print(\"Welcome to the PyPassword Generator!\\n\")\n",
    "\n",
    "letters = ['a', 'b', 'c', 'd', 'e', 'f', 'g', 'h', 'i', 'j', 'k', 'l', 'm', 'n', 'o', 'p', 'q', 'r', 's', 't', 'u', 'v', 'w', 'x', 'y', 'z', 'A', 'B', 'C', 'D', 'E', 'F', 'G', 'H', 'I', 'J', 'K', 'L', 'M', 'N', 'O', 'P', 'Q', 'R', 'S', 'T', 'U', 'V', 'W', 'X', 'Y', 'Z']\n",
    "numbers = ['0', '1', '2', '3', '4', '5', '6', '7', '8', '9']\n",
    "symbols = ['!', '#', '$', '%', '&', '(', ')', '*', '+']\n",
    "\n",
    "pass_len = int(input(\"How many letters you want in the password?\\n\")) + 1\n",
    "pass_symbols = int(input(\"How many symbols you want in the password?\\n\")) + 1\n",
    "pass_num = int(input(\"How many numbers you want in the password?\\n\")) + 1\n",
    "\n",
    "password = []\n",
    "\n",
    "for i in range(1, pass_len):\n",
    "    password.append(random.choice(letters))\n",
    "    \n",
    "\n",
    "for j in range(1, pass_num):\n",
    "    password.append(random.choice(numbers))\n",
    "\n",
    "for j in range(1, pass_symbols):\n",
    "    password.append(random.choice(symbols))\n",
    "\n",
    "print(password)\n",
    "random.shuffle(password)\n",
    "\n",
    "final_pass = \"\"\n",
    "for k in password:\n",
    "    final_pass += k\n",
    "    \n",
    "print(f\"Your Password is {final_pass}\")"
   ]
  }
 ],
 "metadata": {
  "kernelspec": {
   "display_name": "Python 3 (ipykernel)",
   "language": "python",
   "name": "python3"
  },
  "language_info": {
   "codemirror_mode": {
    "name": "ipython",
    "version": 3
   },
   "file_extension": ".py",
   "mimetype": "text/x-python",
   "name": "python",
   "nbconvert_exporter": "python",
   "pygments_lexer": "ipython3",
   "version": "3.10.9"
  }
 },
 "nbformat": 4,
 "nbformat_minor": 5
}
