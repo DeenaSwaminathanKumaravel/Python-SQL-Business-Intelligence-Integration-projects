{
 "cells": [
  {
   "cell_type": "markdown",
   "id": "36bc70c9",
   "metadata": {},
   "source": [
    "## Day 03 - Conditional Statements, Logical Operators, Code blocks and Scope"
   ]
  },
  {
   "cell_type": "markdown",
   "id": "d9fe0f47",
   "metadata": {},
   "source": [
    "### Conditional Statement"
   ]
  },
  {
   "cell_type": "markdown",
   "id": "21f7104c",
   "metadata": {},
   "source": [
    "1. Write a program that works out whether if a given number is an odd or even number.\n",
    "\n",
    "    Even numbers can be divided by 2 with no remainder.\n",
    "\n",
    "    e.g. 86 is even because 86 ÷ 2 = 43\n",
    "\n",
    "    43 does not have any decimal places. Therefore the division is clean.\n",
    "\n",
    "    e.g. 59 is odd because 59 ÷ 2 = 29.5\n",
    "\n",
    "    29.5 is not a whole number, it has decimal places. Therefore there is a remainder of 0.5, so the division is not clean.\n",
    "\n",
    "    The modulo is written as a percentage sign (%) in Python. It gives you the remainder after a division."
   ]
  },
  {
   "cell_type": "code",
   "execution_count": 4,
   "id": "46c393ad",
   "metadata": {},
   "outputs": [
    {
     "name": "stdout",
     "output_type": "stream",
     "text": [
      "enter the value:\n",
      "4\n",
      "This is an even number\n"
     ]
    }
   ],
   "source": [
    "number = int(input(\"enter the value:\\n\"))\n",
    "\n",
    "if number % 2 == 0:\n",
    "    print(\"This is an even number\")\n",
    "else:\n",
    "    print(\"This is an odd number\")\n",
    "    "
   ]
  },
  {
   "cell_type": "markdown",
   "id": "6dd29f79",
   "metadata": {},
   "source": [
    "**Nested Ifs**"
   ]
  },
  {
   "cell_type": "code",
   "execution_count": 6,
   "id": "06bc4b91",
   "metadata": {},
   "outputs": [
    {
     "name": "stdout",
     "output_type": "stream",
     "text": [
      "enter the height in m:\n",
      "189\n",
      "enter your age!:\n",
      "1\n",
      "You can ride the rollercoaster\n"
     ]
    }
   ],
   "source": [
    "height = int(input(\"enter the height in m:\\n\"))\n",
    "age = int(input(\"enter your age!:\\n\"))\n",
    "\n",
    "if height >= 150 or age > 10:\n",
    "    print(\"You can ride the rollercoaster\")\n",
    "else:\n",
    "    print(\"Sorry!, You wont be able to ride the rollercoaster\")\n"
   ]
  },
  {
   "cell_type": "markdown",
   "id": "84419275",
   "metadata": {},
   "source": [
    "2. Write a program that interprets the Body Mass Index (BMI) based on a user's weight and height.\n",
    "\n",
    "    It should tell them the interpretation of their BMI based on the BMI value.\n",
    "\n",
    "    Under 18.5 they are underweight\n",
    "    Over 18.5 but below 25 they have a normal weight\n",
    "    Equal to or over 25 but below 30 they are slightly overweight\n",
    "    Equal to or over 30 but below 35 they are obese\n",
    "    Equal to or over 35 they are clinically obese."
   ]
  },
  {
   "cell_type": "code",
   "execution_count": 10,
   "id": "673fa6e0",
   "metadata": {},
   "outputs": [
    {
     "name": "stdout",
     "output_type": "stream",
     "text": [
      "enter height in cm\n",
      "179\n",
      "Enter weight in kgs\n",
      "79\n",
      "your weight is Normal\n"
     ]
    }
   ],
   "source": [
    "height = int(input(\"enter height in cm\\n\")) / 100\n",
    "weight = int(input(\"Enter weight in kgs\\n\"))\n",
    "\n",
    "bmi = round(weight / (height**2), 1)\n",
    "\n",
    "if bmi < 18.5:\n",
    "    print(\"you are underweight\")\n",
    "elif bmi >= 18.5 and bmi < 25:\n",
    "    print(\"your weight is Normal\")\n",
    "elif bmi >= 25 and bmi < 30:\n",
    "    print(\"you are slightly overweight\")   \n",
    "elif bmi >= 30 and bmi < 35:\n",
    "    print(\"you are obese\")\n",
    "else:\n",
    "    print(\"you are clinically obese\")"
   ]
  },
  {
   "cell_type": "markdown",
   "id": "9272e379",
   "metadata": {},
   "source": [
    "3. Write a program that works out whether if a given year is a leap year. A normal year has 365 days, leap years have 366, with an extra day in February"
   ]
  },
  {
   "cell_type": "code",
   "execution_count": 44,
   "id": "8bd055a4",
   "metadata": {},
   "outputs": [
    {
     "name": "stdout",
     "output_type": "stream",
     "text": [
      "enter the year\n",
      "2024\n",
      "Leap year\n"
     ]
    }
   ],
   "source": [
    "year = int(input(\"enter the year\\n\").strip())\n",
    "\n",
    "if year % 4 == 0:\n",
    "    if year % 100 != 0:\n",
    "        print(\"Leap year\")\n",
    "    elif year % 400 == 0:\n",
    "        print(\"Leap year\")\n",
    "    else:\n",
    "        print(\"Not leap year\")    \n",
    "else:\n",
    "    print(\"Not leap year\")"
   ]
  },
  {
   "cell_type": "markdown",
   "id": "bc2e7e9e",
   "metadata": {},
   "source": [
    "4. Congratulations, you've got a job at Python Pizza! Your first job is to build an automatic pizza order program.\n",
    "\n",
    "    Based on a user's order, work out their final bill.\n",
    "\n",
    "    Small pizza (S): $15\n",
    "\n",
    "    Medium pizza (M): $20\n",
    "\n",
    "    Large pizza (L): $25\n",
    "\n",
    "    Add pepperoni for small pizza (Y or N): +$2\n",
    "\n",
    "    Add pepperoni for medium or large pizza (Y or N): +$3\n",
    "\n",
    "    Add extra cheese for any size pizza (Y or N): +$1"
   ]
  },
  {
   "cell_type": "code",
   "execution_count": 54,
   "id": "269e4f87",
   "metadata": {},
   "outputs": [
    {
     "name": "stdout",
     "output_type": "stream",
     "text": [
      "Thank you for choosing Python Pizza Deliveries!\n",
      "\n",
      "What size pizza do you want? S, M, or L\n",
      "L\n",
      "Do you want pepperoni? Y or N\n",
      "Y\n",
      "Do you want extra cheese? Y or N\n",
      "Y\n",
      "Your final bill is: $29.\n"
     ]
    }
   ],
   "source": [
    "print(\"Thank you for choosing Python Pizza Deliveries!\\n\")\n",
    "size = input(\"What size pizza do you want? S, M, or L\\n\")\n",
    "add_pepperoni = input(\"Do you want pepperoni? Y or N\\n\") \n",
    "extra_cheese = input(\"Do you want extra cheese? Y or N\\n\") \n",
    "\n",
    "if size == \"S\":\n",
    "    if add_pepperoni == \"Y\":\n",
    "        total_price = 15 + 2\n",
    "    else:\n",
    "        total_price = 15\n",
    "elif size == \"M\":\n",
    "    if add_pepperoni == \"Y\":\n",
    "        total_price = 20 + 3\n",
    "    else:\n",
    "        total_price = 20\n",
    "elif size == \"L\":\n",
    "    if add_pepperoni == \"Y\":\n",
    "        total_price = 25 + 3\n",
    "    else:\n",
    "        total_price = 25\n",
    "    \n",
    "if extra_cheese == \"Y\":\n",
    "    total_price += 1\n",
    "else:\n",
    "    total_price\n",
    "print(f\"Your final bill is: ${total_price}.\")"
   ]
  },
  {
   "cell_type": "markdown",
   "id": "1011e595",
   "metadata": {},
   "source": [
    "5. You are going to write a program that tests the compatibility between two people.\n",
    "\n",
    "    To work out the love score between two people:\n",
    "\n",
    "    Take both people's names and check for the number of times the letters in the word TRUE occurs.\n",
    "\n",
    "    Then check for the number of times the letters in the word LOVE occurs.\n",
    "\n",
    "    Then combine these numbers to make a 2 digit number.\n",
    "\n",
    "    For Love Scores less than 10 or greater than 90, the message should be:\n",
    "\n",
    "    \"Your score is *x*, you go together like coke and mentos.\"\n",
    "    For Love Scores between 40 and 50, the message should be:\n",
    "\n",
    "    \"Your score is *y*, you are alright together.\"\n",
    "    Otherwise, the message will just be their score. e.g.:\n",
    "\n",
    "    \"Your score is *z*.\""
   ]
  },
  {
   "cell_type": "code",
   "execution_count": 74,
   "id": "1e47c401",
   "metadata": {},
   "outputs": [
    {
     "name": "stdout",
     "output_type": "stream",
     "text": [
      "Enter the name of the person 1\n",
      "MilkyWay Galaxy\n",
      "Enter the name of the person 2\n",
      "Andromeda Galaxy\n",
      "Your score is 25.\n"
     ]
    }
   ],
   "source": [
    "name1 = input(\"Enter the name of the person 1\\n\")\n",
    "name2 = input(\"Enter the name of the person 2\\n\")\n",
    "\n",
    "list1 = ['t', 'r', 'u', 'e']\n",
    "list2 = ['l', 'o', 'v', 'e']\n",
    "\n",
    "name = (name1+name2).lower()\n",
    "\n",
    "final_num1 = 0\n",
    "final_num2 = 0\n",
    "\n",
    "for i in name:\n",
    "    if i in list1:\n",
    "        final_num1 += 1\n",
    "\n",
    "for i in name:\n",
    "    if i in list2:\n",
    "        final_num2 += 1\n",
    "        \n",
    "final_score = int(str(final_num1) + str(final_num2))\n",
    "\n",
    "if final_score < 10 or final_score > 90:\n",
    "    print(f\"Your score is {final_score}, you go together like coke and mentos.\")\n",
    "elif final_score >= 40 and final_score <= 50:\n",
    "     print(f\"Your score is {final_score}, you are alright together.\")\n",
    "else:\n",
    "    print(f\"Your score is {final_score}.\")"
   ]
  }
 ],
 "metadata": {
  "kernelspec": {
   "display_name": "Python 3 (ipykernel)",
   "language": "python",
   "name": "python3"
  },
  "language_info": {
   "codemirror_mode": {
    "name": "ipython",
    "version": 3
   },
   "file_extension": ".py",
   "mimetype": "text/x-python",
   "name": "python",
   "nbconvert_exporter": "python",
   "pygments_lexer": "ipython3",
   "version": "3.10.9"
  }
 },
 "nbformat": 4,
 "nbformat_minor": 5
}
