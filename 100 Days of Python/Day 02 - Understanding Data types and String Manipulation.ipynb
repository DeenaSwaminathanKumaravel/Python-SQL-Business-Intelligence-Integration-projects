{
 "cells": [
  {
   "cell_type": "markdown",
   "id": "3452ca1c",
   "metadata": {},
   "source": [
    "## Day 02 - Understanding Data types"
   ]
  },
  {
   "cell_type": "markdown",
   "id": "41574aec",
   "metadata": {},
   "source": [
    "### Primitive Data types"
   ]
  },
  {
   "cell_type": "code",
   "execution_count": null,
   "id": "5391ed35",
   "metadata": {},
   "outputs": [],
   "source": [
    "# String -\n",
    "print(\"123\"[2]) # sub scripting\n",
    "\n",
    "# int\n",
    "print(1)\n",
    "\n",
    "#float\n",
    "print(1.22)"
   ]
  },
  {
   "cell_type": "markdown",
   "id": "7609c7ef",
   "metadata": {},
   "source": [
    " Type() function can be used to check the data type of any variable."
   ]
  },
  {
   "cell_type": "code",
   "execution_count": null,
   "id": "17faeb9f",
   "metadata": {},
   "outputs": [],
   "source": [
    "# Type error, Type Checking and Type Conversion\n",
    "\n",
    "print(len(str(23230))) # String Conversion\n",
    "\n",
    "num_char = len(input(\"What is your name?\"))\n",
    "print(\"your name has \" + str(num_char) + \" Characters\")\n",
    "\n",
    "type(num_char)"
   ]
  },
  {
   "cell_type": "markdown",
   "id": "14dfb04a",
   "metadata": {},
   "source": [
    "**Mathematical Operators** Oop - PEMDAS\n",
    "\n",
    "Add 3+3\\\n",
    "subtract 3-3\\\n",
    "mutiply 3*3\\\n",
    "division 3/3\\\n",
    "Floor division 3//3\\\n",
    "Modulus 3%3  \\\n",
    "Power 3**3"
   ]
  },
  {
   "cell_type": "markdown",
   "id": "cf2c7d88",
   "metadata": {},
   "source": [
    "### **Exercises**\n",
    "\n",
    "1. Write a program that adds the digits in a 2 digit number. e.g. if the input was 35, then the output should be 3 + 5 = 8\n",
    "\n",
    "   Warning. Do not change the code on line 1. Your program should work for different inputs. e.g. any two-digit number.\n",
    " \n",
    "   The last line of your program should print the result.\n",
    "\n"
   ]
  },
  {
   "cell_type": "code",
   "execution_count": 15,
   "id": "aabd10dd",
   "metadata": {},
   "outputs": [
    {
     "name": "stdout",
     "output_type": "stream",
     "text": [
      "Enter  two  digit number \n",
      "Galaxy\n",
      "Enter only numbers, other data types are not allowed\n",
      "Enter  two  digit number \n",
      "23\n",
      "The final value is - 5\n"
     ]
    }
   ],
   "source": [
    "while True: # Exception handling\n",
    "    try:\n",
    "        two_digit_number = int(input(\"Enter  two  digit number \\n\"))\n",
    "        break\n",
    "    except:\n",
    "        print(\"Enter only numbers, other data types are not allowed\")\n",
    "\n",
    "num_add = int(str(two_digit_number)[0]) + int(str(two_digit_number)[1])\n",
    "print(\"The final value is - \" + str(num_add))\n"
   ]
  },
  {
   "cell_type": "markdown",
   "id": "353d8987",
   "metadata": {},
   "source": [
    "2. Write a program that calculates the Body Mass Index (BMI) from a user's weight and height.\n",
    "\n",
    "    BMI Wikipedia Page\n",
    "\n",
    "    The BMI is a measure of someone's weight taking into account their height. e.g. If a tall person and a short person both    weigh the same amount, the short person is usually more overweight.\n",
    "\n",
    "    The BMI is calculated by dividing a person's weight (in kg) by the square of their height (in m):\n",
    "\n",
    "    BMI Formula = Weight(kgs) / height**2\n",
    "\n",
    "    NOTE: You should convert the bmi to a whole number and print out a whole number in order to pass all the tests. See examples below."
   ]
  },
  {
   "cell_type": "code",
   "execution_count": 30,
   "id": "a8cfb84a",
   "metadata": {},
   "outputs": [
    {
     "name": "stdout",
     "output_type": "stream",
     "text": [
      "enter height in cm\n",
      "179\n",
      "Enter weight in kgs\n",
      "81\n",
      "BMI is 25\n"
     ]
    }
   ],
   "source": [
    "height = int(input(\"enter height in cm\\n\")) / 100\n",
    "weight = int(input(\"Enter weight in kgs\\n\"))\n",
    "\n",
    "print(\"BMI is \" + str(int(weight / (height**2))))"
   ]
  },
  {
   "cell_type": "markdown",
   "id": "73d530ef",
   "metadata": {},
   "source": [
    "# F strings"
   ]
  },
  {
   "cell_type": "code",
   "execution_count": 37,
   "id": "2876bc15",
   "metadata": {},
   "outputs": [
    {
     "name": "stdout",
     "output_type": "stream",
     "text": [
      "Enter a number to print\n",
      "23\n",
      "Entered  number is 23\n"
     ]
    }
   ],
   "source": [
    "num = int(input(\"Enter a number to print\\n\"))\n",
    "          \n",
    "print(\"Entered  number is \" + str(num)) # String Conversion to print the integer"
   ]
  },
  {
   "cell_type": "markdown",
   "id": "f7c2b5c8",
   "metadata": {},
   "source": [
    "**(or)**"
   ]
  },
  {
   "cell_type": "code",
   "execution_count": 35,
   "id": "b8dff1c4",
   "metadata": {},
   "outputs": [
    {
     "name": "stdout",
     "output_type": "stream",
     "text": [
      "Enter a number to print\n",
      "23\n",
      "Entered  number is 23\n"
     ]
    },
    {
     "data": {
      "text/plain": [
       "int"
      ]
     },
     "execution_count": 35,
     "metadata": {},
     "output_type": "execute_result"
    }
   ],
   "source": [
    "num = int(input(\"Enter a number to print\\n\"))\n",
    "          \n",
    "print(f\"Entered  number is {num}\") \n",
    "type(num)"
   ]
  },
  {
   "cell_type": "markdown",
   "id": "eab9cfaf",
   "metadata": {},
   "source": [
    "3. Create a program using maths and f-Strings that tells us how many weeks we have left, if we live until 90 years old.\n",
    "\n",
    "    It will take your current age as the input and output a message with our time left in this format:\n",
    "\n",
    "    You have x weeks left.\n",
    "    Where x is replaced with the actual calculated number of weeks the input age has left until age 90.\n",
    "\n",
    "    Warning your output should match the Example Output format exactly, even the positions of the commas and full stops."
   ]
  },
  {
   "cell_type": "code",
   "execution_count": 39,
   "id": "caf1045a",
   "metadata": {},
   "outputs": [
    {
     "name": "stdout",
     "output_type": "stream",
     "text": [
      "This program requires current age as input and it prints the number of weeks left to reach 90 years\n",
      "Enter a number to age\n",
      "89\n",
      "You have 52 weeks left.\n"
     ]
    }
   ],
   "source": [
    "print(\"This program requires current age as input and it prints the number of weeks left to reach 90 years\")\n",
    "curr_age = int(input(\"Enter a number to age\\n\"))\n",
    "\n",
    "# age_left = (90-curr_age) * 52 (year has approx 52 weeks)\n",
    "\n",
    "print(f\"You have {(90-curr_age) * 52} weeks left.\")"
   ]
  },
  {
   "cell_type": "markdown",
   "id": "5062dc77",
   "metadata": {},
   "source": [
    "## Tip Calculator project"
   ]
  },
  {
   "cell_type": "code",
   "execution_count": 51,
   "id": "84c26cf8",
   "metadata": {},
   "outputs": [
    {
     "name": "stdout",
     "output_type": "stream",
     "text": [
      "Welcome to Tip Calculator!\n",
      "\n",
      "What was the total bill?\n",
      "200\n",
      "What percentage tip would you like to give? 10, 12 or 15?\n",
      "13\n",
      "How many people to split the bill?\n",
      "3\n",
      "Each person should pay: $75.33\n"
     ]
    }
   ],
   "source": [
    "print(\"Welcome to Tip Calculator!\\n\")\n",
    "\n",
    "while True:\n",
    "    try:\n",
    "        bill_amount = int(input(\"What was the total bill?\\n\"))\n",
    "        ds_per = int(input(\"What percentage tip would you like to give? 10, 12 or 15?\\n\"))\n",
    "        total_ppl = int(input(\"How many people to split the bill?\\n\"))\n",
    "        break\n",
    "    except:\n",
    "        print(\"Enter only numerical values! Try Again\\n\")\n",
    "        \n",
    "total_bill_per_person = (bill_amount + ((bill_amount * ds_per)/100)) / total_ppl\n",
    "total_bill_per_person = \"{:.2f}\".format(total_bill_per_person)\n",
    "print(f\"Each person should pay: ${total_bill_per_person}\")\n"
   ]
  },
  {
   "cell_type": "code",
   "execution_count": null,
   "id": "4eeba296",
   "metadata": {},
   "outputs": [],
   "source": []
  }
 ],
 "metadata": {
  "kernelspec": {
   "display_name": "Python 3 (ipykernel)",
   "language": "python",
   "name": "python3"
  },
  "language_info": {
   "codemirror_mode": {
    "name": "ipython",
    "version": 3
   },
   "file_extension": ".py",
   "mimetype": "text/x-python",
   "name": "python",
   "nbconvert_exporter": "python",
   "pygments_lexer": "ipython3",
   "version": "3.10.9"
  }
 },
 "nbformat": 4,
 "nbformat_minor": 5
}
