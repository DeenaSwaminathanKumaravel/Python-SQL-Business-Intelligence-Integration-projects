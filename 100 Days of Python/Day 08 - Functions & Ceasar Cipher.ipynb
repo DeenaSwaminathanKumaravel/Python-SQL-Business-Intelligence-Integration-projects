{
 "cells": [
  {
   "cell_type": "markdown",
   "id": "5456c40f",
   "metadata": {},
   "source": [
    "### Day 08 - Functions, Parameters & Ceasar Cipher"
   ]
  },
  {
   "cell_type": "markdown",
   "id": "4dbef77a",
   "metadata": {},
   "source": [
    "# Ceasar Cipher"
   ]
  },
  {
   "cell_type": "code",
   "execution_count": 30,
   "id": "2b03ce6e",
   "metadata": {
    "scrolled": true
   },
   "outputs": [],
   "source": [
    "# ord() function gives the coressponding unicode and chr() function converts the number to corresponding character\n",
    "\n",
    "def ceasar_cipher(message, shift=5):\n",
    "    print(\"The default shift is set to 5, make sure to add the pass arguement to override default value!\")\n",
    "    \n",
    "    encrypted_text = ''\n",
    "    \n",
    "    for char in message:\n",
    "        if char.isalpha():\n",
    "            shifted = ord(char) + shift\n",
    "            # the below code makes sure only alphabets are shifted not other unicode\n",
    "            if char.islower():\n",
    "                if shifted > ord('z'):\n",
    "                    shifted-=26\n",
    "                elif shifted < ord('a'):\n",
    "                    shifted+=26\n",
    "            if char.isupper():\n",
    "                if shifted > ord('Z'):\n",
    "                    shifted-=26\n",
    "                elif shifted < ord('A'):\n",
    "                    shifted+=26\n",
    "        \n",
    "            encrypted_text+=chr(shifted)\n",
    "            \n",
    "        else:\n",
    "            encrypted_text+=char\n",
    "    \n",
    "    return encrypted_text\n",
    "\n",
    "def ceasar_decipher(message, shift=5):\n",
    "    return ceasar_cipher(message, -shift)"
   ]
  },
  {
   "cell_type": "code",
   "execution_count": 40,
   "id": "262dbed4",
   "metadata": {
    "scrolled": true
   },
   "outputs": [
    {
     "name": "stdout",
     "output_type": "stream",
     "text": [
      "The default shift is set to 5, make sure to add the pass arguement to override default value!\n"
     ]
    },
    {
     "data": {
      "text/plain": [
       "'Ijxywtd ymj hfwlt xmnux gd 2 fy rnisnlmy!'"
      ]
     },
     "execution_count": 40,
     "metadata": {},
     "output_type": "execute_result"
    }
   ],
   "source": [
    "ceasar_cipher(\"Destroy the cargo ships by 2 at midnight!\")"
   ]
  },
  {
   "cell_type": "code",
   "execution_count": 41,
   "id": "1b93b16a",
   "metadata": {},
   "outputs": [
    {
     "name": "stdout",
     "output_type": "stream",
     "text": [
      "The default shift is set to 5, make sure to add the pass arguement to override default value!\n"
     ]
    },
    {
     "data": {
      "text/plain": [
       "'Destroy the cargo ships by 2 at midnight!'"
      ]
     },
     "execution_count": 41,
     "metadata": {},
     "output_type": "execute_result"
    }
   ],
   "source": [
    "ceasar_decipher('Ijxywtd ymj hfwlt xmnux gd 2 fy rnisnlmy!')"
   ]
  },
  {
   "cell_type": "markdown",
   "id": "0ad531d7",
   "metadata": {},
   "source": [
    "# Functions"
   ]
  },
  {
   "cell_type": "code",
   "execution_count": 3,
   "id": "6ab5b94d",
   "metadata": {},
   "outputs": [],
   "source": [
    "# Coverage per can is 5 Square meters\n",
    "\n",
    "import math\n",
    "\n",
    "def paint_calc(coverage_per_can=5):\n",
    "    \n",
    "    print(\"The default Coverage of the one can is 5sq meters!\")\n",
    "    \n",
    "    height = int(input(\"Enter the height of the wall!\"))\n",
    "    width = int(input(\"Enter the width of the wall!\"))\n",
    "    \n",
    "    print(f\"You will need {math.ceil((height * width) / coverage_per_can)} cans of paint!\")"
   ]
  },
  {
   "cell_type": "code",
   "execution_count": 4,
   "id": "2d8787fd",
   "metadata": {},
   "outputs": [
    {
     "name": "stdout",
     "output_type": "stream",
     "text": [
      "The default Coverage of the one can is 5sq meters!\n",
      "Enter the height of the wall!3\n",
      "Enter the width of the wall!4\n",
      "You will need 3 cans of paint!\n"
     ]
    }
   ],
   "source": [
    "paint_calc()"
   ]
  },
  {
   "cell_type": "code",
   "execution_count": 5,
   "id": "962dff65",
   "metadata": {},
   "outputs": [],
   "source": [
    "## Prime Number Checker\n",
    "\n",
    "def prime_checker(number=None):\n",
    "    if not number:\n",
    "        number = int(input(\"Enter the value to check if the number is prime!\"))\n",
    "    else:\n",
    "        pass\n",
    "\n",
    "    if number <= 1:\n",
    "        return f\"{number} is not a prime number\"\n",
    "    else:\n",
    "        for i in range(2, number):\n",
    "            if number % i == 0:\n",
    "                return f\"{number} is a prime number\"\n",
    "            else:\n",
    "                return f\"{number} is not a prime number\""
   ]
  },
  {
   "cell_type": "code",
   "execution_count": 6,
   "id": "7c57c187",
   "metadata": {},
   "outputs": [
    {
     "name": "stdout",
     "output_type": "stream",
     "text": [
      "Enter the value to check if the number is prime!3\n"
     ]
    },
    {
     "data": {
      "text/plain": [
       "'3 is not a prime number'"
      ]
     },
     "execution_count": 6,
     "metadata": {},
     "output_type": "execute_result"
    }
   ],
   "source": [
    "prime_checker()"
   ]
  }
 ],
 "metadata": {
  "kernelspec": {
   "display_name": "Python 3 (ipykernel)",
   "language": "python",
   "name": "python3"
  },
  "language_info": {
   "codemirror_mode": {
    "name": "ipython",
    "version": 3
   },
   "file_extension": ".py",
   "mimetype": "text/x-python",
   "name": "python",
   "nbconvert_exporter": "python",
   "pygments_lexer": "ipython3",
   "version": "3.10.9"
  }
 },
 "nbformat": 4,
 "nbformat_minor": 5
}
