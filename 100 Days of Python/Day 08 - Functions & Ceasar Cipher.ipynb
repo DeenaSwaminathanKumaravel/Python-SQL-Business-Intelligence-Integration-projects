{
 "cells": [
  {
   "cell_type": "markdown",
   "id": "eb6fbe3c",
   "metadata": {},
   "source": [
    "### Day 08 - Functions, Parameters & Ceasar Cipher"
   ]
  },
  {
   "cell_type": "markdown",
   "id": "b33cd2a8",
   "metadata": {},
   "source": [
    "# Ceasar Cipher"
   ]
  },
  {
   "cell_type": "code",
   "execution_count": 61,
   "id": "eb2a3354",
   "metadata": {
    "scrolled": true
   },
   "outputs": [],
   "source": [
    "# ord() function gives the coressponding unicode and chr() function converts the number to corresponding character\n",
    "\n",
    "def ceasar_cipher(message, shift=5):\n",
    "    print(\"The default shift is set to 5, make sure to pass arguement to override default value!\")\n",
    "    \n",
    "    encrypted_text = ''\n",
    "    \n",
    "    for char in message:\n",
    "        if char.isalpha():\n",
    "            shifted = ord(char) + shift\n",
    "            # the below code makes sure only alphabets are shifted not other unicode\n",
    "            if char.islower():\n",
    "                if shifted > ord('z'):\n",
    "                    shifted-=26\n",
    "                elif shifted < ord('a'):\n",
    "                    shifted+=26\n",
    "            if char.isupper():\n",
    "                if shifted > ord('Z'):\n",
    "                    shifted-=26\n",
    "                elif shifted < ord('A'):\n",
    "                    shifted+=26\n",
    "        \n",
    "            encrypted_text+=chr(shifted)\n",
    "            \n",
    "        else:\n",
    "            encrypted_text+=char\n",
    "    \n",
    "    return encrypted_text\n",
    "\n",
    "def ceasar_decipher(message, shift=5):\n",
    "    return f\"Decrypted Message - {ceasar_cipher(message, -shift)}\""
   ]
  },
  {
   "cell_type": "code",
   "execution_count": 62,
   "id": "e03d10e7",
   "metadata": {
    "scrolled": true
   },
   "outputs": [
    {
     "name": "stdout",
     "output_type": "stream",
     "text": [
      "The default shift is set to 5, make sure to pass arguement to override default value!\n"
     ]
    },
    {
     "data": {
      "text/plain": [
       "'Ijxywtd ymj hfwlt xmnux gd 2 fy rnisnlmy!'"
      ]
     },
     "execution_count": 62,
     "metadata": {},
     "output_type": "execute_result"
    }
   ],
   "source": [
    "ceasar_cipher(\"Destroy the cargo ships by 2 at midnight!\")"
   ]
  },
  {
   "cell_type": "code",
   "execution_count": 63,
   "id": "c29e848a",
   "metadata": {},
   "outputs": [
    {
     "name": "stdout",
     "output_type": "stream",
     "text": [
      "The default shift is set to 5, make sure to pass arguement to override default value!\n"
     ]
    },
    {
     "data": {
      "text/plain": [
       "'Decrypted Message - Destroy the cargo ships by 2 at midnight!'"
      ]
     },
     "execution_count": 63,
     "metadata": {},
     "output_type": "execute_result"
    }
   ],
   "source": [
    "ceasar_decipher('Ijxywtd ymj hfwlt xmnux gd 2 fy rnisnlmy!')"
   ]
  },
  {
   "cell_type": "markdown",
   "id": "c33f09ae",
   "metadata": {},
   "source": [
    "# Functions"
   ]
  },
  {
   "cell_type": "code",
   "execution_count": 64,
   "id": "f136daec",
   "metadata": {},
   "outputs": [],
   "source": [
    "# Coverage per can is 5 Square meters\n",
    "\n",
    "import math\n",
    "\n",
    "def paint_calc(coverage_per_can=5):\n",
    "    \n",
    "    print(\"The default Coverage of the one can is 5sq meters!\")\n",
    "    \n",
    "    height = int(input(\"Enter the height of the wall!\"))\n",
    "    width = int(input(\"Enter the width of the wall!\"))\n",
    "    \n",
    "    print(f\"You will need {math.ceil((height * width) / coverage_per_can)} cans of paint!\")"
   ]
  },
  {
   "cell_type": "code",
   "execution_count": 65,
   "id": "ce7bb04d",
   "metadata": {},
   "outputs": [
    {
     "name": "stdout",
     "output_type": "stream",
     "text": [
      "The default Coverage of the one can is 5sq meters!\n",
      "Enter the height of the wall!2\n",
      "Enter the width of the wall!2\n",
      "You will need 1 cans of paint!\n"
     ]
    }
   ],
   "source": [
    "paint_calc()"
   ]
  },
  {
   "cell_type": "code",
   "execution_count": 66,
   "id": "8fa11992",
   "metadata": {},
   "outputs": [],
   "source": [
    "## Prime Number Checker\n",
    "\n",
    "def prime_checker(number=None):\n",
    "    if not number:\n",
    "        number = int(input(\"Enter the value to check if the number is prime!\"))\n",
    "    else:\n",
    "        pass\n",
    "\n",
    "    if number <= 1:\n",
    "        return f\"{number} is not a prime number\"\n",
    "    else:\n",
    "        for i in range(2, number):\n",
    "            if number % i == 0:\n",
    "                return f\"{number} is a prime number\"\n",
    "            else:\n",
    "                return f\"{number} is not a prime number\""
   ]
  },
  {
   "cell_type": "code",
   "execution_count": 67,
   "id": "816a9529",
   "metadata": {},
   "outputs": [
    {
     "name": "stdout",
     "output_type": "stream",
     "text": [
      "Enter the value to check if the number is prime!5\n"
     ]
    },
    {
     "data": {
      "text/plain": [
       "'5 is not a prime number'"
      ]
     },
     "execution_count": 67,
     "metadata": {},
     "output_type": "execute_result"
    }
   ],
   "source": [
    "prime_checker()"
   ]
  }
 ],
 "metadata": {
  "kernelspec": {
   "display_name": "Python 3 (ipykernel)",
   "language": "python",
   "name": "python3"
  },
  "language_info": {
   "codemirror_mode": {
    "name": "ipython",
    "version": 3
   },
   "file_extension": ".py",
   "mimetype": "text/x-python",
   "name": "python",
   "nbconvert_exporter": "python",
   "pygments_lexer": "ipython3",
   "version": "3.10.9"
  }
 },
 "nbformat": 4,
 "nbformat_minor": 5
}
