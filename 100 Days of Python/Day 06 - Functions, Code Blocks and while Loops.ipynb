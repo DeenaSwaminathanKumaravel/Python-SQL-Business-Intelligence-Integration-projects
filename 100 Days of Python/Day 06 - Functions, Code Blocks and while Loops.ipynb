{
 "cells": [
  {
   "cell_type": "markdown",
   "id": "8847d833",
   "metadata": {},
   "source": [
    "## Day 06 - Functions, Code Blocks and while Loops"
   ]
  },
  {
   "cell_type": "markdown",
   "id": "7a840a54",
   "metadata": {},
   "source": [
    "## Functions"
   ]
  },
  {
   "cell_type": "code",
   "execution_count": 6,
   "id": "98b71060",
   "metadata": {},
   "outputs": [],
   "source": [
    "def function(x):\n",
    "    print(x)"
   ]
  },
  {
   "cell_type": "code",
   "execution_count": 7,
   "id": "53557c71",
   "metadata": {},
   "outputs": [
    {
     "name": "stdout",
     "output_type": "stream",
     "text": [
      "Hello\n"
     ]
    }
   ],
   "source": [
    "function(\"Hello\")"
   ]
  },
  {
   "cell_type": "markdown",
   "id": "f97569b0",
   "metadata": {},
   "source": [
    "1. Write a Python program that finds the factorial of a given positive integer. Create a function called calculate_factorial that takes an integer as an argument and returns its factorial. Additionally, the program should ask the user to input a positive integer, call the function, and then print the result.\n",
    "\n",
    "    Remember, the factorial of a non-negative integer n is the product of all positive integers less than or equal to n."
   ]
  },
  {
   "cell_type": "code",
   "execution_count": 20,
   "id": "646e7f95",
   "metadata": {},
   "outputs": [],
   "source": [
    "# The factorial is the product of the numbers between 1 and the input value. \n",
    "\n",
    "def calculate_factorial(n):\n",
    "    final_num = 1\n",
    "    for i in range(1, n+1):\n",
    "        final_num *= i\n",
    "    return(final_num)"
   ]
  },
  {
   "cell_type": "code",
   "execution_count": 21,
   "id": "261db36f",
   "metadata": {},
   "outputs": [
    {
     "data": {
      "text/plain": [
       "3628800"
      ]
     },
     "execution_count": 21,
     "metadata": {},
     "output_type": "execute_result"
    }
   ],
   "source": [
    "calculate_factorial(10)"
   ]
  },
  {
   "cell_type": "markdown",
   "id": "c53017ee",
   "metadata": {},
   "source": [
    "**(or)**"
   ]
  },
  {
   "cell_type": "markdown",
   "id": "7ee30d0f",
   "metadata": {},
   "source": [
    "**Factorial using Recursion**"
   ]
  },
  {
   "cell_type": "code",
   "execution_count": 27,
   "id": "7ba57f0d",
   "metadata": {},
   "outputs": [],
   "source": [
    "def factorial(n):\n",
    "    if n == 1 or n == 0:\n",
    "        return 1\n",
    "    else:\n",
    "        return n * factorial(n-1)"
   ]
  },
  {
   "cell_type": "code",
   "execution_count": 28,
   "id": "b9c65fec",
   "metadata": {
    "scrolled": true
   },
   "outputs": [
    {
     "data": {
      "text/plain": [
       "3628800"
      ]
     },
     "execution_count": 28,
     "metadata": {},
     "output_type": "execute_result"
    }
   ],
   "source": [
    "factorial(10)"
   ]
  },
  {
   "cell_type": "markdown",
   "id": "1e5b4340",
   "metadata": {},
   "source": [
    "## while Loop"
   ]
  },
  {
   "cell_type": "code",
   "execution_count": 1,
   "id": "ca16a840",
   "metadata": {},
   "outputs": [
    {
     "name": "stdout",
     "output_type": "stream",
     "text": [
      "How many terms? 10\n",
      "Fibonacci sequence:\n",
      "0\n",
      "1\n",
      "1\n",
      "2\n",
      "3\n",
      "5\n",
      "8\n",
      "13\n",
      "21\n",
      "34\n"
     ]
    }
   ],
   "source": [
    "# Program to display the Fibonacci sequence up to n-th term\n",
    "\n",
    "nterms = int(input(\"How many terms? \"))\n",
    "\n",
    "# first two terms\n",
    "n1, n2 = 0, 1\n",
    "count = 0\n",
    "\n",
    "# check if the number of terms is valid\n",
    "if nterms <= 0:\n",
    "   print(\"Please enter a positive integer\")\n",
    "# if there is only one term, return n1\n",
    "elif nterms == 1:\n",
    "   print(\"Fibonacci sequence upto\",nterms,\":\")\n",
    "   print(n1)\n",
    "# generate fibonacci sequence\n",
    "else:\n",
    "   print(\"Fibonacci sequence:\")\n",
    "   while count < nterms:\n",
    "       print(n1)a\n",
    "       nth = n1 + n2\n",
    "       # update values\n",
    "       n1 = n2\n",
    "       n2 = nth\n",
    "       count += 1"
   ]
  },
  {
   "cell_type": "code",
   "execution_count": null,
   "id": "8af5f871",
   "metadata": {},
   "outputs": [],
   "source": []
  }
 ],
 "metadata": {
  "kernelspec": {
   "display_name": "Python 3 (ipykernel)",
   "language": "python",
   "name": "python3"
  },
  "language_info": {
   "codemirror_mode": {
    "name": "ipython",
    "version": 3
   },
   "file_extension": ".py",
   "mimetype": "text/x-python",
   "name": "python",
   "nbconvert_exporter": "python",
   "pygments_lexer": "ipython3",
   "version": "3.10.9"
  }
 },
 "nbformat": 4,
 "nbformat_minor": 5
}
